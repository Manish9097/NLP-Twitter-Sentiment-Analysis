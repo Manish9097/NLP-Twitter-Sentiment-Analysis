{
 "cells": [
  {
   "cell_type": "code",
   "execution_count": 47,
   "id": "318669ce",
   "metadata": {},
   "outputs": [
    {
     "name": "stderr",
     "output_type": "stream",
     "text": [
      "[nltk_data] Downloading package stopwords to\n",
      "[nltk_data]     C:\\Users\\manis\\AppData\\Roaming\\nltk_data...\n",
      "[nltk_data]   Package stopwords is already up-to-date!\n",
      "[nltk_data] Downloading package wordnet to\n",
      "[nltk_data]     C:\\Users\\manis\\AppData\\Roaming\\nltk_data...\n",
      "[nltk_data]   Package wordnet is already up-to-date!\n"
     ]
    }
   ],
   "source": [
    "import pandas as pd\n",
    "import numpy as np\n",
    "import matplotlib.pyplot as plt\n",
    "\n",
    "from sklearn import model_selection, preprocessing, linear_model, metrics\n",
    "from sklearn.feature_extraction.text import TfidfVectorizer, CountVectorizer\n",
    "from sklearn import ensemble\n",
    "from sklearn.ensemble import AdaBoostClassifier\n",
    "from sklearn.ensemble import GradientBoostingClassifier\n",
    "from sklearn.ensemble import RandomForestClassifier\n",
    "from sklearn.ensemble import ExtraTreesClassifier\n",
    "\n",
    "from sklearn.metrics import roc_auc_score, roc_curve\n",
    "from sklearn.metrics import classification_report\n",
    "from sklearn.metrics import confusion_matrix\n",
    "from sklearn.metrics import accuracy_score\n",
    "\n",
    "\n",
    "import nltk\n",
    "nltk.download('stopwords')\n",
    "from nltk.corpus import stopwords\n",
    "from textblob import Word\n",
    "nltk.download('wordnet')\n",
    "\n",
    "from termcolor import colored\n",
    "from warnings import filterwarnings\n",
    "filterwarnings('ignore')\n",
    "\n",
    "from sklearn import set_config\n",
    "set_config(print_changed_only = False)\n",
    "\n",
    "import warnings\n",
    "warnings.filterwarnings('ignore')"
   ]
  },
  {
   "cell_type": "code",
   "execution_count": 9,
   "id": "29f9d646",
   "metadata": {},
   "outputs": [
    {
     "data": {
      "text/plain": [
       "'C:\\\\Users\\\\manis'"
      ]
     },
     "execution_count": 9,
     "metadata": {},
     "output_type": "execute_result"
    }
   ],
   "source": [
    "pwd"
   ]
  },
  {
   "cell_type": "code",
   "execution_count": 10,
   "id": "13d906ca",
   "metadata": {},
   "outputs": [],
   "source": [
    "train_set = pd.read_csv(\"C:/Users/manis/Twitter sentiment analysis_train.csv\",\n",
    "                   encoding = \"utf-8\",\n",
    "                   engine = \"python\",\n",
    "                   header = 0)\n"
   ]
  },
  {
   "cell_type": "code",
   "execution_count": 11,
   "id": "546c0f15",
   "metadata": {},
   "outputs": [
    {
     "data": {
      "text/html": [
       "<div>\n",
       "<style scoped>\n",
       "    .dataframe tbody tr th:only-of-type {\n",
       "        vertical-align: middle;\n",
       "    }\n",
       "\n",
       "    .dataframe tbody tr th {\n",
       "        vertical-align: top;\n",
       "    }\n",
       "\n",
       "    .dataframe thead th {\n",
       "        text-align: right;\n",
       "    }\n",
       "</style>\n",
       "<table border=\"1\" class=\"dataframe\">\n",
       "  <thead>\n",
       "    <tr style=\"text-align: right;\">\n",
       "      <th></th>\n",
       "      <th>id</th>\n",
       "      <th>label</th>\n",
       "      <th>tweet</th>\n",
       "    </tr>\n",
       "  </thead>\n",
       "  <tbody>\n",
       "    <tr>\n",
       "      <th>0</th>\n",
       "      <td>1</td>\n",
       "      <td>0</td>\n",
       "      <td>@user when a father is dysfunctional and is s...</td>\n",
       "    </tr>\n",
       "    <tr>\n",
       "      <th>1</th>\n",
       "      <td>2</td>\n",
       "      <td>0</td>\n",
       "      <td>@user @user thanks for #lyft credit i can't us...</td>\n",
       "    </tr>\n",
       "    <tr>\n",
       "      <th>2</th>\n",
       "      <td>3</td>\n",
       "      <td>0</td>\n",
       "      <td>bihday your majesty</td>\n",
       "    </tr>\n",
       "    <tr>\n",
       "      <th>3</th>\n",
       "      <td>4</td>\n",
       "      <td>0</td>\n",
       "      <td>#model   i love u take with u all the time in ...</td>\n",
       "    </tr>\n",
       "    <tr>\n",
       "      <th>4</th>\n",
       "      <td>5</td>\n",
       "      <td>0</td>\n",
       "      <td>factsguide: society now    #motivation</td>\n",
       "    </tr>\n",
       "    <tr>\n",
       "      <th>5</th>\n",
       "      <td>6</td>\n",
       "      <td>0</td>\n",
       "      <td>[2/2] huge fan fare and big talking before the...</td>\n",
       "    </tr>\n",
       "    <tr>\n",
       "      <th>6</th>\n",
       "      <td>7</td>\n",
       "      <td>0</td>\n",
       "      <td>@user camping tomorrow @user @user @user @use...</td>\n",
       "    </tr>\n",
       "    <tr>\n",
       "      <th>7</th>\n",
       "      <td>8</td>\n",
       "      <td>0</td>\n",
       "      <td>the next school year is the year for exams.ð...</td>\n",
       "    </tr>\n",
       "    <tr>\n",
       "      <th>8</th>\n",
       "      <td>9</td>\n",
       "      <td>0</td>\n",
       "      <td>we won!!! love the land!!! #allin #cavs #champ...</td>\n",
       "    </tr>\n",
       "    <tr>\n",
       "      <th>9</th>\n",
       "      <td>10</td>\n",
       "      <td>0</td>\n",
       "      <td>@user @user welcome here !  i'm   it's so #gr...</td>\n",
       "    </tr>\n",
       "  </tbody>\n",
       "</table>\n",
       "</div>"
      ],
      "text/plain": [
       "   id  label                                              tweet\n",
       "0   1      0   @user when a father is dysfunctional and is s...\n",
       "1   2      0  @user @user thanks for #lyft credit i can't us...\n",
       "2   3      0                                bihday your majesty\n",
       "3   4      0  #model   i love u take with u all the time in ...\n",
       "4   5      0             factsguide: society now    #motivation\n",
       "5   6      0  [2/2] huge fan fare and big talking before the...\n",
       "6   7      0   @user camping tomorrow @user @user @user @use...\n",
       "7   8      0  the next school year is the year for exams.ð...\n",
       "8   9      0  we won!!! love the land!!! #allin #cavs #champ...\n",
       "9  10      0   @user @user welcome here !  i'm   it's so #gr..."
      ]
     },
     "execution_count": 11,
     "metadata": {},
     "output_type": "execute_result"
    }
   ],
   "source": [
    "train_set.head(10)"
   ]
  },
  {
   "cell_type": "code",
   "execution_count": 12,
   "id": "12797309",
   "metadata": {},
   "outputs": [
    {
     "data": {
      "text/plain": [
       "(31962, 3)"
      ]
     },
     "execution_count": 12,
     "metadata": {},
     "output_type": "execute_result"
    }
   ],
   "source": [
    "train_set.shape"
   ]
  },
  {
   "cell_type": "code",
   "execution_count": 13,
   "id": "07887a0e",
   "metadata": {},
   "outputs": [
    {
     "name": "stdout",
     "output_type": "stream",
     "text": [
      "<class 'pandas.core.frame.DataFrame'>\n",
      "RangeIndex: 31962 entries, 0 to 31961\n",
      "Data columns (total 3 columns):\n",
      " #   Column  Non-Null Count  Dtype \n",
      "---  ------  --------------  ----- \n",
      " 0   id      31962 non-null  int64 \n",
      " 1   label   31962 non-null  int64 \n",
      " 2   tweet   31962 non-null  object\n",
      "dtypes: int64(2), object(1)\n",
      "memory usage: 749.2+ KB\n"
     ]
    }
   ],
   "source": [
    "#get general information about train set\n",
    "\n",
    "train_set.info()"
   ]
  },
  {
   "cell_type": "code",
   "execution_count": 14,
   "id": "e6252e5d",
   "metadata": {},
   "outputs": [
    {
     "data": {
      "text/plain": [
       "0"
      ]
     },
     "execution_count": 14,
     "metadata": {},
     "output_type": "execute_result"
    }
   ],
   "source": [
    "#check whether there are duplicated values\n",
    "\n",
    "train_set.duplicated().sum()"
   ]
  },
  {
   "cell_type": "code",
   "execution_count": 16,
   "id": "3296f2a6",
   "metadata": {},
   "outputs": [
    {
     "data": {
      "text/html": [
       "<div>\n",
       "<style scoped>\n",
       "    .dataframe tbody tr th:only-of-type {\n",
       "        vertical-align: middle;\n",
       "    }\n",
       "\n",
       "    .dataframe tbody tr th {\n",
       "        vertical-align: top;\n",
       "    }\n",
       "\n",
       "    .dataframe thead th {\n",
       "        text-align: right;\n",
       "    }\n",
       "</style>\n",
       "<table border=\"1\" class=\"dataframe\">\n",
       "  <thead>\n",
       "    <tr style=\"text-align: right;\">\n",
       "      <th></th>\n",
       "      <th>id</th>\n",
       "      <th>tweet</th>\n",
       "    </tr>\n",
       "    <tr>\n",
       "      <th>label</th>\n",
       "      <th></th>\n",
       "      <th></th>\n",
       "    </tr>\n",
       "  </thead>\n",
       "  <tbody>\n",
       "    <tr>\n",
       "      <th>0</th>\n",
       "      <td>29720</td>\n",
       "      <td>29720</td>\n",
       "    </tr>\n",
       "    <tr>\n",
       "      <th>1</th>\n",
       "      <td>2242</td>\n",
       "      <td>2242</td>\n",
       "    </tr>\n",
       "  </tbody>\n",
       "</table>\n",
       "</div>"
      ],
      "text/plain": [
       "          id  tweet\n",
       "label              \n",
       "0      29720  29720\n",
       "1       2242   2242"
      ]
     },
     "execution_count": 16,
     "metadata": {},
     "output_type": "execute_result"
    }
   ],
   "source": [
    "#get the number of classes of the \"label\" variable of train set\n",
    "\n",
    "train_set.groupby(\"label\").count()"
   ]
  },
  {
   "cell_type": "markdown",
   "id": "36d52f8e",
   "metadata": {},
   "source": [
    "## Feature Engineering ( PROCESS DATA )"
   ]
  },
  {
   "cell_type": "code",
   "execution_count": 17,
   "id": "8d3cc6ed",
   "metadata": {},
   "outputs": [
    {
     "name": "stdout",
     "output_type": "stream",
     "text": [
      "\u001b[32m\n",
      "CONVERTED SUCCESFULLY...\u001b[0m\n"
     ]
    }
   ],
   "source": [
    "#convert uppercase letters to lowercase letters in \"tweet\" columns\n",
    "\n",
    "train_set[\"tweet\"] = train_set[\"tweet\"].apply(lambda x: \" \".join(x.lower() for x in x.split()))\n",
    "\n",
    "print(colored(\"\\nCONVERTED SUCCESFULLY...\", \"green\"))"
   ]
  },
  {
   "cell_type": "code",
   "execution_count": 18,
   "id": "6b8aeb27",
   "metadata": {},
   "outputs": [
    {
     "name": "stdout",
     "output_type": "stream",
     "text": [
      "\u001b[32m\n",
      "DELETED SUCCESFULLY...\u001b[0m\n"
     ]
    }
   ],
   "source": [
    "#delete punctuation marks from \"tweet\" columns\n",
    "\n",
    "train_set[\"tweet\"] = train_set[\"tweet\"].str.replace('[^\\w\\s]','')\n",
    "\n",
    "\n",
    "print(colored(\"\\nDELETED SUCCESFULLY...\", \"green\"))"
   ]
  },
  {
   "cell_type": "code",
   "execution_count": 19,
   "id": "44f29e93",
   "metadata": {},
   "outputs": [
    {
     "name": "stdout",
     "output_type": "stream",
     "text": [
      "\u001b[32m\n",
      " NUMBERS DELETED SUCCESFULLY...\u001b[0m\n"
     ]
    }
   ],
   "source": [
    "#delete numbers from \"tweet\" columns\n",
    "\n",
    "train_set['tweet'] = train_set['tweet'].str.replace('\\d','')\n",
    "\n",
    "\n",
    "print(colored(\"\\n NUMBERS DELETED SUCCESFULLY...\", \"green\"))"
   ]
  },
  {
   "cell_type": "code",
   "execution_count": 20,
   "id": "81db50b2",
   "metadata": {},
   "outputs": [
    {
     "name": "stdout",
     "output_type": "stream",
     "text": [
      "\u001b[32m\n",
      "STOPWORDS DELETED SUCCESFULLY...\u001b[0m\n"
     ]
    }
   ],
   "source": [
    "#delete stopwords from \"tweet\" columns\n",
    "\n",
    "sw = stopwords.words(\"english\")\n",
    "train_set['tweet'] = train_set['tweet'].apply(lambda x: \" \".join(x for x in x.split() if x not in sw))\n",
    "\n",
    "print(colored(\"\\nSTOPWORDS DELETED SUCCESFULLY...\", \"green\"))"
   ]
  },
  {
   "cell_type": "code",
   "execution_count": 21,
   "id": "6b4f5fef",
   "metadata": {},
   "outputs": [
    {
     "name": "stdout",
     "output_type": "stream",
     "text": [
      "\u001b[32m\n",
      "DONE SUCCESFULLY...\u001b[0m\n"
     ]
    }
   ],
   "source": [
    "#lemmatization. That is, we get the roots of the words in the \"tweet\" columns\n",
    "\n",
    "train_set['tweet'] = train_set['tweet'].apply(lambda x: \" \".join([Word(word).lemmatize() for word in x.split()]))\n",
    "\n",
    "print(colored(\"\\nDONE SUCCESFULLY...\", \"green\"))"
   ]
  },
  {
   "cell_type": "code",
   "execution_count": 22,
   "id": "a0c9a88b",
   "metadata": {},
   "outputs": [
    {
     "name": "stdout",
     "output_type": "stream",
     "text": [
      "\u001b[32m\n",
      "'ID' COLUMNS DROPPED SUCCESFULLY...\u001b[0m\n"
     ]
    }
   ],
   "source": [
    "#drop \"id\" column from datasets\n",
    "\n",
    "train_set = train_set.drop(\"id\", axis = 1)\n",
    "\n",
    "print(colored(\"\\n'ID' COLUMNS DROPPED SUCCESFULLY...\", \"green\"))"
   ]
  },
  {
   "cell_type": "code",
   "execution_count": 24,
   "id": "fbb97457",
   "metadata": {},
   "outputs": [
    {
     "data": {
      "text/html": [
       "<div>\n",
       "<style scoped>\n",
       "    .dataframe tbody tr th:only-of-type {\n",
       "        vertical-align: middle;\n",
       "    }\n",
       "\n",
       "    .dataframe tbody tr th {\n",
       "        vertical-align: top;\n",
       "    }\n",
       "\n",
       "    .dataframe thead th {\n",
       "        text-align: right;\n",
       "    }\n",
       "</style>\n",
       "<table border=\"1\" class=\"dataframe\">\n",
       "  <thead>\n",
       "    <tr style=\"text-align: right;\">\n",
       "      <th></th>\n",
       "      <th>label</th>\n",
       "      <th>tweet</th>\n",
       "    </tr>\n",
       "  </thead>\n",
       "  <tbody>\n",
       "    <tr>\n",
       "      <th>0</th>\n",
       "      <td>0</td>\n",
       "      <td>user father dysfunctional selfish drag kid dys...</td>\n",
       "    </tr>\n",
       "    <tr>\n",
       "      <th>1</th>\n",
       "      <td>0</td>\n",
       "      <td>user user thanks lyft credit cant use cause do...</td>\n",
       "    </tr>\n",
       "    <tr>\n",
       "      <th>2</th>\n",
       "      <td>0</td>\n",
       "      <td>bihday majesty</td>\n",
       "    </tr>\n",
       "    <tr>\n",
       "      <th>3</th>\n",
       "      <td>0</td>\n",
       "      <td>model love u take u time urð ðððð ððð</td>\n",
       "    </tr>\n",
       "    <tr>\n",
       "      <th>4</th>\n",
       "      <td>0</td>\n",
       "      <td>factsguide society motivation</td>\n",
       "    </tr>\n",
       "    <tr>\n",
       "      <th>5</th>\n",
       "      <td>0</td>\n",
       "      <td>huge fan fare big talking leave chaos pay disp...</td>\n",
       "    </tr>\n",
       "    <tr>\n",
       "      <th>6</th>\n",
       "      <td>0</td>\n",
       "      <td>user camping tomorrow user user user user user...</td>\n",
       "    </tr>\n",
       "    <tr>\n",
       "      <th>7</th>\n",
       "      <td>0</td>\n",
       "      <td>next school year year examsð cant think ð scho...</td>\n",
       "    </tr>\n",
       "    <tr>\n",
       "      <th>8</th>\n",
       "      <td>0</td>\n",
       "      <td>love land allin cavs champion cleveland clevel...</td>\n",
       "    </tr>\n",
       "    <tr>\n",
       "      <th>9</th>\n",
       "      <td>0</td>\n",
       "      <td>user user welcome im gr</td>\n",
       "    </tr>\n",
       "  </tbody>\n",
       "</table>\n",
       "</div>"
      ],
      "text/plain": [
       "   label                                              tweet\n",
       "0      0  user father dysfunctional selfish drag kid dys...\n",
       "1      0  user user thanks lyft credit cant use cause do...\n",
       "2      0                                     bihday majesty\n",
       "3      0              model love u take u time urð ðððð ððð\n",
       "4      0                      factsguide society motivation\n",
       "5      0  huge fan fare big talking leave chaos pay disp...\n",
       "6      0  user camping tomorrow user user user user user...\n",
       "7      0  next school year year examsð cant think ð scho...\n",
       "8      0  love land allin cavs champion cleveland clevel...\n",
       "9      0                            user user welcome im gr"
      ]
     },
     "execution_count": 24,
     "metadata": {},
     "output_type": "execute_result"
    }
   ],
   "source": [
    "#look at the latest condition of train set\n",
    "\n",
    "train_set.head(10)"
   ]
  },
  {
   "cell_type": "code",
   "execution_count": 25,
   "id": "2904a9e0",
   "metadata": {},
   "outputs": [],
   "source": [
    "# split dataset into train test\n",
    "\n",
    "\n",
    "x = train_set[\"tweet\"]\n",
    "y = train_set[\"label\"]\n",
    "\n",
    "train_x, test_x, train_y, test_y = model_selection.train_test_split(x, y,\n",
    "                                                                    test_size = 0.25,\n",
    "                                                                    shuffle = True,\n",
    "                                                                    random_state = 11)\n"
   ]
  },
  {
   "cell_type": "markdown",
   "id": "6e944765",
   "metadata": {},
   "source": [
    "## VECTORIZE DATA"
   ]
  },
  {
   "cell_type": "markdown",
   "id": "3d5cae72",
   "metadata": {},
   "source": [
    "### \"Count Vectors\" method"
   ]
  },
  {
   "cell_type": "code",
   "execution_count": 27,
   "id": "7d06bf0e",
   "metadata": {},
   "outputs": [
    {
     "data": {
      "text/plain": [
       "array([[0, 0, 0, ..., 0, 0, 0],\n",
       "       [0, 0, 0, ..., 0, 0, 0],\n",
       "       [0, 0, 0, ..., 0, 0, 0],\n",
       "       ...,\n",
       "       [0, 0, 0, ..., 0, 0, 0],\n",
       "       [0, 0, 0, ..., 0, 0, 0],\n",
       "       [0, 0, 0, ..., 0, 0, 0]], dtype=int64)"
      ]
     },
     "execution_count": 27,
     "metadata": {},
     "output_type": "execute_result"
    }
   ],
   "source": [
    "vectorizer = CountVectorizer()\n",
    "vectorizer.fit(train_x)\n",
    "\n",
    "x_train_count = vectorizer.transform(train_x)\n",
    "x_test_count = vectorizer.transform(test_x)\n",
    "\n",
    "x_train_count.toarray()"
   ]
  },
  {
   "cell_type": "markdown",
   "id": "8f230c79",
   "metadata": {},
   "source": [
    "### \"TF-IDF\" method"
   ]
  },
  {
   "cell_type": "code",
   "execution_count": 28,
   "id": "ac07c726",
   "metadata": {},
   "outputs": [
    {
     "data": {
      "text/plain": [
       "array([[0., 0., 0., ..., 0., 0., 0.],\n",
       "       [0., 0., 0., ..., 0., 0., 0.],\n",
       "       [0., 0., 0., ..., 0., 0., 0.],\n",
       "       ...,\n",
       "       [0., 0., 0., ..., 0., 0., 0.],\n",
       "       [0., 0., 0., ..., 0., 0., 0.],\n",
       "       [0., 0., 0., ..., 0., 0., 0.]])"
      ]
     },
     "execution_count": 28,
     "metadata": {},
     "output_type": "execute_result"
    }
   ],
   "source": [
    "tf_idf_word_vectorizer = TfidfVectorizer()\n",
    "tf_idf_word_vectorizer.fit(train_x)\n",
    "\n",
    "x_train_tf_idf_word = tf_idf_word_vectorizer.transform(train_x)\n",
    "x_test_tf_idf_word = tf_idf_word_vectorizer.transform(test_x)\n",
    "\n",
    "x_train_tf_idf_word.toarray()"
   ]
  },
  {
   "cell_type": "markdown",
   "id": "30e8bdff",
   "metadata": {},
   "source": [
    "## BUILDING MACHINE LEARNING MODELS"
   ]
  },
  {
   "cell_type": "markdown",
   "id": "0d00e6a3",
   "metadata": {},
   "source": [
    "### Logistic regression model with \"count-vectors\" method"
   ]
  },
  {
   "cell_type": "code",
   "execution_count": 80,
   "id": "57feca4e",
   "metadata": {},
   "outputs": [
    {
     "name": "stdout",
     "output_type": "stream",
     "text": [
      "\n",
      "Logistic regression model with 'count-vectors' method\n",
      "Accuracy ratio:  0.9463148496240601\n"
     ]
    }
   ],
   "source": [
    "log = linear_model.LogisticRegression()\n",
    "log_model = log.fit(x_train_count, train_y)\n",
    "accuracy = model_selection.cross_val_score(log_model,\n",
    "                                           x_test_count,\n",
    "                                           test_y,\n",
    "                                           cv = 20).mean()\n",
    "\n",
    "print(\"\\nLogistic regression model with 'count-vectors' method\")\n",
    "print(\"Accuracy ratio: \", accuracy)"
   ]
  },
  {
   "cell_type": "code",
   "execution_count": 81,
   "id": "69cb4335",
   "metadata": {},
   "outputs": [],
   "source": [
    "pred=log_model.predict(x_test_count)"
   ]
  },
  {
   "cell_type": "code",
   "execution_count": 82,
   "id": "92b90bd5",
   "metadata": {},
   "outputs": [
    {
     "data": {
      "text/plain": [
       "array([[7352,   40],\n",
       "       [ 306,  293]], dtype=int64)"
      ]
     },
     "execution_count": 82,
     "metadata": {},
     "output_type": "execute_result"
    }
   ],
   "source": [
    "confusion_matrix(test_y,pred)"
   ]
  },
  {
   "cell_type": "code",
   "execution_count": 83,
   "id": "688ba076",
   "metadata": {},
   "outputs": [
    {
     "name": "stdout",
     "output_type": "stream",
     "text": [
      "              precision    recall  f1-score   support\n",
      "\n",
      "           0       0.96      0.99      0.98      7392\n",
      "           1       0.88      0.49      0.63       599\n",
      "\n",
      "    accuracy                           0.96      7991\n",
      "   macro avg       0.92      0.74      0.80      7991\n",
      "weighted avg       0.95      0.96      0.95      7991\n",
      "\n"
     ]
    }
   ],
   "source": [
    "print(classification_report(test_y,pred))"
   ]
  },
  {
   "cell_type": "code",
   "execution_count": 84,
   "id": "02b4a805",
   "metadata": {},
   "outputs": [
    {
     "data": {
      "image/png": "[encoded data removed]",
      "text/plain": [
       "<Figure size 432x288 with 1 Axes>"
      ]
     },
     "metadata": {
      "needs_background": "light"
     },
     "output_type": "display_data"
    }
   ],
   "source": [
    "y = train_y\n",
    "X = x_train_count\n",
    "\n",
    "log_roc_auc = roc_auc_score(y, log_model.predict(X))\n",
    "\n",
    "fpr, tpr, thresholds = roc_curve(y, log_model.predict_proba(X)[:,1])\n",
    "plt.figure()\n",
    "plt.plot(fpr, tpr, label='AUC (area = %0.2f)' % log_roc_auc)\n",
    "plt.plot([0, 1], [0, 1],'r--')\n",
    "plt.xlim([0.0, 1.0])\n",
    "plt.ylim([0.0, 1.05])\n",
    "plt.xlabel('False Positive Rate')\n",
    "plt.ylabel('True Positive Rate')\n",
    "plt.title('ROC')\n",
    "plt.show()"
   ]
  },
  {
   "cell_type": "markdown",
   "id": "ba6fe798",
   "metadata": {},
   "source": [
    "### Logistic regression model with \"tf-idf\" method"
   ]
  },
  {
   "cell_type": "code",
   "execution_count": 85,
   "id": "eded33ea",
   "metadata": {},
   "outputs": [
    {
     "name": "stdout",
     "output_type": "stream",
     "text": [
      "\n",
      "Logistic regression model with 'tf-idf' method\n",
      "Accuracy ratio:  0.9353026315789474\n"
     ]
    }
   ],
   "source": [
    "log = linear_model.LogisticRegression()\n",
    "log_model = log.fit(x_train_tf_idf_word, train_y)\n",
    "accuracy = model_selection.cross_val_score(log_model,\n",
    "                                           x_test_tf_idf_word,\n",
    "                                           test_y,\n",
    "                                           cv = 20).mean()\n",
    "\n",
    "print(\"\\nLogistic regression model with 'tf-idf' method\")\n",
    "print(\"Accuracy ratio: \", accuracy)"
   ]
  },
  {
   "cell_type": "code",
   "execution_count": 86,
   "id": "433b58ce",
   "metadata": {},
   "outputs": [],
   "source": [
    "pred=log_model.predict(x_test_tf_idf_word)"
   ]
  },
  {
   "cell_type": "code",
   "execution_count": 87,
   "id": "87a0f0dd",
   "metadata": {},
   "outputs": [
    {
     "data": {
      "text/plain": [
       "array([[7378,   14],\n",
       "       [ 429,  170]], dtype=int64)"
      ]
     },
     "execution_count": 87,
     "metadata": {},
     "output_type": "execute_result"
    }
   ],
   "source": [
    "confusion_matrix(test_y,pred)"
   ]
  },
  {
   "cell_type": "code",
   "execution_count": 88,
   "id": "0cb9379c",
   "metadata": {},
   "outputs": [
    {
     "name": "stdout",
     "output_type": "stream",
     "text": [
      "              precision    recall  f1-score   support\n",
      "\n",
      "           0       0.95      1.00      0.97      7392\n",
      "           1       0.92      0.28      0.43       599\n",
      "\n",
      "    accuracy                           0.94      7991\n",
      "   macro avg       0.93      0.64      0.70      7991\n",
      "weighted avg       0.94      0.94      0.93      7991\n",
      "\n"
     ]
    }
   ],
   "source": [
    "print(classification_report(test_y,pred))"
   ]
  },
  {
   "cell_type": "code",
   "execution_count": 89,
   "id": "9a242734",
   "metadata": {},
   "outputs": [
    {
     "data": {
      "image/png": "[encoded data removed]",
      "text/plain": [
       "<Figure size 432x288 with 1 Axes>"
      ]
     },
     "metadata": {
      "needs_background": "light"
     },
     "output_type": "display_data"
    }
   ],
   "source": [
    "y = train_y\n",
    "X = x_train_tf_idf_word\n",
    "\n",
    "log_roc_auc = roc_auc_score(y, log_model.predict(X))\n",
    "\n",
    "fpr, tpr, thresholds = roc_curve(y, log_model.predict_proba(X)[:,1])\n",
    "plt.figure()\n",
    "plt.plot(fpr, tpr, label='AUC (area = %0.2f)' % log_roc_auc)\n",
    "plt.plot([0, 1], [0, 1],'r--')\n",
    "plt.xlim([0.0, 1.0])\n",
    "plt.ylim([0.0, 1.05])\n",
    "plt.xlabel('False Positive Rate')\n",
    "plt.ylabel('True Positive Rate')\n",
    "plt.title('ROC')\n",
    "plt.show()"
   ]
  },
  {
   "cell_type": "markdown",
   "id": "ee685f6f",
   "metadata": {},
   "source": [
    "### GradientBoostingClassifier model with \"count-vectors\" method"
   ]
  },
  {
   "cell_type": "code",
   "execution_count": 90,
   "id": "8547e853",
   "metadata": {},
   "outputs": [
    {
     "name": "stdout",
     "output_type": "stream",
     "text": [
      "\n",
      "GradientBoosting Classifier model with 'count-vectors' method\n",
      "Accuracy ratio:  0.9419357769423558\n"
     ]
    }
   ],
   "source": [
    "gbc = GradientBoostingClassifier()\n",
    "gbc_model = gbc.fit(x_train_count,train_y)\n",
    "accuracy = model_selection.cross_val_score(gbc_model,\n",
    "                                           x_test_count,\n",
    "                                           test_y,\n",
    "                                           cv = 20).mean()\n",
    "\n",
    "print(\"\\nGradientBoosting Classifier model with 'count-vectors' method\")\n",
    "print(\"Accuracy ratio: \", accuracy)"
   ]
  },
  {
   "cell_type": "code",
   "execution_count": 91,
   "id": "83026290",
   "metadata": {},
   "outputs": [],
   "source": [
    "pred=gbc_model.predict(x_test_count)"
   ]
  },
  {
   "cell_type": "code",
   "execution_count": 92,
   "id": "5bab7b69",
   "metadata": {},
   "outputs": [
    {
     "data": {
      "text/plain": [
       "array([[7377,   15],\n",
       "       [ 449,  150]], dtype=int64)"
      ]
     },
     "execution_count": 92,
     "metadata": {},
     "output_type": "execute_result"
    }
   ],
   "source": [
    "confusion_matrix(test_y,pred)"
   ]
  },
  {
   "cell_type": "code",
   "execution_count": 93,
   "id": "55e670f1",
   "metadata": {},
   "outputs": [
    {
     "name": "stdout",
     "output_type": "stream",
     "text": [
      "              precision    recall  f1-score   support\n",
      "\n",
      "           0       0.94      1.00      0.97      7392\n",
      "           1       0.91      0.25      0.39       599\n",
      "\n",
      "    accuracy                           0.94      7991\n",
      "   macro avg       0.93      0.62      0.68      7991\n",
      "weighted avg       0.94      0.94      0.93      7991\n",
      "\n"
     ]
    }
   ],
   "source": [
    "print(classification_report(test_y,pred))"
   ]
  },
  {
   "cell_type": "code",
   "execution_count": 96,
   "id": "41fc4a2e",
   "metadata": {},
   "outputs": [
    {
     "data": {
      "image/png": "[encoded data removed]",
      "text/plain": [
       "<Figure size 432x288 with 1 Axes>"
      ]
     },
     "metadata": {
      "needs_background": "light"
     },
     "output_type": "display_data"
    }
   ],
   "source": [
    "y = train_y\n",
    "X = x_train_count.astype(\"float64\")\n",
    "\n",
    "gbc_roc_auc = roc_auc_score(y, gbc_model.predict(X))\n",
    "\n",
    "fpr, tpr, thresholds = roc_curve(y, gbc_model.predict_proba(X)[:,1])\n",
    "plt.figure()\n",
    "plt.plot(fpr, tpr, label='AUC (area = %0.2f)' % gbc_roc_auc)\n",
    "plt.plot([0, 1], [0, 1],'r--')\n",
    "plt.xlim([0.0, 1.0])\n",
    "plt.ylim([0.0, 1.05])\n",
    "plt.xlabel('False Positive Rate')\n",
    "plt.ylabel('True Positive Rate')\n",
    "plt.title('ROC')\n",
    "plt.show()"
   ]
  },
  {
   "cell_type": "markdown",
   "id": "36ea89c0",
   "metadata": {},
   "source": [
    "### GradientBoostingClassifier model with \"tf-idf\" method"
   ]
  },
  {
   "cell_type": "code",
   "execution_count": 97,
   "id": "f3f73194",
   "metadata": {},
   "outputs": [
    {
     "name": "stdout",
     "output_type": "stream",
     "text": [
      "\n",
      "GradientBoosting Classifier model with 'tf-idf' method\n",
      "Accuracy ratio:  0.9405592105263156\n"
     ]
    }
   ],
   "source": [
    "gbc = GradientBoostingClassifier()\n",
    "gbc_model = gbc.fit(x_train_tf_idf_word,train_y)\n",
    "accuracy = model_selection.cross_val_score(gbc_model, \n",
    "                                           x_test_tf_idf_word, \n",
    "                                           test_y, \n",
    "                                           cv = 20).mean()\n",
    "\n",
    "print(\"\\nGradientBoosting Classifier model with 'tf-idf' method\")\n",
    "print(\"Accuracy ratio: \", accuracy)"
   ]
  },
  {
   "cell_type": "code",
   "execution_count": 98,
   "id": "1c065f70",
   "metadata": {},
   "outputs": [],
   "source": [
    "pred=gbc_model.predict(x_test_tf_idf_word)"
   ]
  },
  {
   "cell_type": "code",
   "execution_count": 99,
   "id": "74cdc048",
   "metadata": {},
   "outputs": [
    {
     "data": {
      "text/plain": [
       "array([[7373,   19],\n",
       "       [ 436,  163]], dtype=int64)"
      ]
     },
     "execution_count": 99,
     "metadata": {},
     "output_type": "execute_result"
    }
   ],
   "source": [
    "confusion_matrix(test_y,pred)"
   ]
  },
  {
   "cell_type": "code",
   "execution_count": 100,
   "id": "eba6ef55",
   "metadata": {},
   "outputs": [
    {
     "name": "stdout",
     "output_type": "stream",
     "text": [
      "              precision    recall  f1-score   support\n",
      "\n",
      "           0       0.94      1.00      0.97      7392\n",
      "           1       0.90      0.27      0.42       599\n",
      "\n",
      "    accuracy                           0.94      7991\n",
      "   macro avg       0.92      0.63      0.69      7991\n",
      "weighted avg       0.94      0.94      0.93      7991\n",
      "\n"
     ]
    }
   ],
   "source": [
    "print(classification_report(test_y,pred))"
   ]
  },
  {
   "cell_type": "code",
   "execution_count": 101,
   "id": "eed76dcf",
   "metadata": {},
   "outputs": [
    {
     "data": {
      "image/png": "[encoded data removed]",
      "text/plain": [
       "<Figure size 432x288 with 1 Axes>"
      ]
     },
     "metadata": {
      "needs_background": "light"
     },
     "output_type": "display_data"
    }
   ],
   "source": [
    "y = train_y\n",
    "X = x_train_tf_idf_word.astype(\"float64\")\n",
    "\n",
    "gbc_roc_auc = roc_auc_score(y, gbc_model.predict(X))\n",
    "\n",
    "fpr, tpr, thresholds = roc_curve(y, gbc_model.predict_proba(X)[:,1])\n",
    "plt.figure()\n",
    "plt.plot(fpr, tpr, label='AUC (area = %0.2f)' % gbc_roc_auc)\n",
    "plt.plot([0, 1], [0, 1],'r--')\n",
    "plt.xlim([0.0, 1.0])\n",
    "plt.ylim([0.0, 1.05])\n",
    "plt.xlabel('False Positive Rate')\n",
    "plt.ylabel('True Positive Rate')\n",
    "plt.title('ROC')\n",
    "plt.show()"
   ]
  },
  {
   "cell_type": "markdown",
   "id": "37e70949",
   "metadata": {},
   "source": [
    "### AdaBoostClassifier model with \"count-vectors\" method"
   ]
  },
  {
   "cell_type": "code",
   "execution_count": 102,
   "id": "655eafc4",
   "metadata": {},
   "outputs": [
    {
     "name": "stdout",
     "output_type": "stream",
     "text": [
      "\n",
      "AdaBoostClassifier Classifier model with 'count-vectors' method\n",
      "Accuracy ratio:  0.9439404761904762\n"
     ]
    }
   ],
   "source": [
    "abc = AdaBoostClassifier()\n",
    "abc_model = abc.fit(x_train_count,train_y)\n",
    "accuracy = model_selection.cross_val_score(abc_model,\n",
    "                                           x_test_count,\n",
    "                                           test_y,\n",
    "                                           cv = 20).mean()\n",
    "\n",
    "print(\"\\nAdaBoostClassifier Classifier model with 'count-vectors' method\")\n",
    "print(\"Accuracy ratio: \", accuracy)"
   ]
  },
  {
   "cell_type": "code",
   "execution_count": 103,
   "id": "3d910c19",
   "metadata": {},
   "outputs": [],
   "source": [
    "pred=abc_model.predict(x_test_count)"
   ]
  },
  {
   "cell_type": "code",
   "execution_count": 104,
   "id": "255af9d9",
   "metadata": {},
   "outputs": [
    {
     "data": {
      "text/plain": [
       "array([[7326,   66],\n",
       "       [ 384,  215]], dtype=int64)"
      ]
     },
     "execution_count": 104,
     "metadata": {},
     "output_type": "execute_result"
    }
   ],
   "source": [
    "confusion_matrix(test_y,pred)"
   ]
  },
  {
   "cell_type": "code",
   "execution_count": 105,
   "id": "5a4267b6",
   "metadata": {},
   "outputs": [
    {
     "name": "stdout",
     "output_type": "stream",
     "text": [
      "              precision    recall  f1-score   support\n",
      "\n",
      "           0       0.95      0.99      0.97      7392\n",
      "           1       0.77      0.36      0.49       599\n",
      "\n",
      "    accuracy                           0.94      7991\n",
      "   macro avg       0.86      0.68      0.73      7991\n",
      "weighted avg       0.94      0.94      0.93      7991\n",
      "\n"
     ]
    }
   ],
   "source": [
    "print(classification_report(test_y,pred))"
   ]
  },
  {
   "cell_type": "code",
   "execution_count": 106,
   "id": "90f46e7c",
   "metadata": {},
   "outputs": [
    {
     "data": {
      "image/png": "[encoded data removed]",
      "text/plain": [
       "<Figure size 432x288 with 1 Axes>"
      ]
     },
     "metadata": {
      "needs_background": "light"
     },
     "output_type": "display_data"
    }
   ],
   "source": [
    "y = train_y\n",
    "X = x_train_count.astype(\"float64\")\n",
    "\n",
    "abc_roc_auc = roc_auc_score(y, abc_model.predict(X))\n",
    "\n",
    "fpr, tpr, thresholds = roc_curve(y, abc_model.predict_proba(X)[:,1])\n",
    "plt.figure()\n",
    "plt.plot(fpr, tpr, label='AUC (area = %0.2f)' % abc_roc_auc)\n",
    "plt.plot([0, 1], [0, 1],'r--')\n",
    "plt.xlim([0.0, 1.0])\n",
    "plt.ylim([0.0, 1.05])\n",
    "plt.xlabel('False Positive Rate')\n",
    "plt.ylabel('True Positive Rate')\n",
    "plt.title('ROC')\n",
    "plt.show()"
   ]
  },
  {
   "cell_type": "markdown",
   "id": "975c968f",
   "metadata": {},
   "source": [
    "### AdaBoostClassifier model with \"tf-idf\" method"
   ]
  },
  {
   "cell_type": "code",
   "execution_count": 107,
   "id": "8c5d354e",
   "metadata": {},
   "outputs": [
    {
     "name": "stdout",
     "output_type": "stream",
     "text": [
      "\n",
      "AdaBoostClassifier model with 'tf-idf' method\n",
      "Accuracy ratio:  0.9413126566416039\n"
     ]
    }
   ],
   "source": [
    "abc = AdaBoostClassifier()\n",
    "abc_model = abc.fit(x_train_tf_idf_word,train_y)\n",
    "accuracy = model_selection.cross_val_score(abc_model, \n",
    "                                           x_test_tf_idf_word, \n",
    "                                           test_y, \n",
    "                                           cv = 20).mean()\n",
    "\n",
    "print(\"\\nAdaBoostClassifier model with 'tf-idf' method\")\n",
    "print(\"Accuracy ratio: \", accuracy)"
   ]
  },
  {
   "cell_type": "code",
   "execution_count": 108,
   "id": "851c9155",
   "metadata": {},
   "outputs": [],
   "source": [
    "pred=abc_model.predict(x_test_tf_idf_word)"
   ]
  },
  {
   "cell_type": "code",
   "execution_count": 109,
   "id": "397ab4e3",
   "metadata": {},
   "outputs": [
    {
     "data": {
      "text/plain": [
       "array([[7321,   71],\n",
       "       [ 395,  204]], dtype=int64)"
      ]
     },
     "execution_count": 109,
     "metadata": {},
     "output_type": "execute_result"
    }
   ],
   "source": [
    "confusion_matrix(test_y,pred)"
   ]
  },
  {
   "cell_type": "code",
   "execution_count": 110,
   "id": "4fc0f917",
   "metadata": {},
   "outputs": [
    {
     "name": "stdout",
     "output_type": "stream",
     "text": [
      "              precision    recall  f1-score   support\n",
      "\n",
      "           0       0.95      0.99      0.97      7392\n",
      "           1       0.74      0.34      0.47       599\n",
      "\n",
      "    accuracy                           0.94      7991\n",
      "   macro avg       0.85      0.67      0.72      7991\n",
      "weighted avg       0.93      0.94      0.93      7991\n",
      "\n"
     ]
    }
   ],
   "source": [
    "print(classification_report(test_y,pred))"
   ]
  },
  {
   "cell_type": "code",
   "execution_count": 111,
   "id": "2402ebe7",
   "metadata": {},
   "outputs": [
    {
     "data": {
      "image/png": "[encoded data removed]",
      "text/plain": [
       "<Figure size 432x288 with 1 Axes>"
      ]
     },
     "metadata": {
      "needs_background": "light"
     },
     "output_type": "display_data"
    }
   ],
   "source": [
    "y = train_y\n",
    "X = x_train_tf_idf_word.astype(\"float64\")\n",
    "\n",
    "abc_roc_auc = roc_auc_score(y, abc_model.predict(X))\n",
    "\n",
    "fpr, tpr, thresholds = roc_curve(y, abc_model.predict_proba(X)[:,1])\n",
    "plt.figure()\n",
    "plt.plot(fpr, tpr, label='AUC (area = %0.2f)' % abc_roc_auc)\n",
    "plt.plot([0, 1], [0, 1],'r--')\n",
    "plt.xlim([0.0, 1.0])\n",
    "plt.ylim([0.0, 1.05])\n",
    "plt.xlabel('False Positive Rate')\n",
    "plt.ylabel('True Positive Rate')\n",
    "plt.title('ROC')\n",
    "plt.show()"
   ]
  },
  {
   "cell_type": "markdown",
   "id": "301ac14b",
   "metadata": {},
   "source": [
    "### RandomForestClassifier model with \"count-vectors\" method"
   ]
  },
  {
   "cell_type": "code",
   "execution_count": 112,
   "id": "b7cc120a",
   "metadata": {},
   "outputs": [
    {
     "name": "stdout",
     "output_type": "stream",
     "text": [
      "\n",
      "RandomForestClassifier model with 'count-vectors' method\n",
      "Accuracy ratio:  0.9488186090225563\n"
     ]
    }
   ],
   "source": [
    "rfc = RandomForestClassifier()\n",
    "rfc_model = rfc.fit(x_train_count,train_y)\n",
    "accuracy = model_selection.cross_val_score(rfc_model,\n",
    "                                           x_test_count,\n",
    "                                           test_y,\n",
    "                                           cv = 20).mean()\n",
    "\n",
    "print(\"\\nRandomForestClassifier model with 'count-vectors' method\")\n",
    "print(\"Accuracy ratio: \", accuracy)"
   ]
  },
  {
   "cell_type": "code",
   "execution_count": 113,
   "id": "74dc342a",
   "metadata": {},
   "outputs": [],
   "source": [
    "pred=rfc_model.predict(x_test_count)"
   ]
  },
  {
   "cell_type": "code",
   "execution_count": 114,
   "id": "0d540179",
   "metadata": {},
   "outputs": [
    {
     "data": {
      "text/plain": [
       "array([[7358,   34],\n",
       "       [ 303,  296]], dtype=int64)"
      ]
     },
     "execution_count": 114,
     "metadata": {},
     "output_type": "execute_result"
    }
   ],
   "source": [
    "confusion_matrix(test_y,pred)"
   ]
  },
  {
   "cell_type": "code",
   "execution_count": 115,
   "id": "fe9947dc",
   "metadata": {},
   "outputs": [
    {
     "name": "stdout",
     "output_type": "stream",
     "text": [
      "              precision    recall  f1-score   support\n",
      "\n",
      "           0       0.96      1.00      0.98      7392\n",
      "           1       0.90      0.49      0.64       599\n",
      "\n",
      "    accuracy                           0.96      7991\n",
      "   macro avg       0.93      0.74      0.81      7991\n",
      "weighted avg       0.96      0.96      0.95      7991\n",
      "\n"
     ]
    }
   ],
   "source": [
    "print(classification_report(test_y,pred))"
   ]
  },
  {
   "cell_type": "code",
   "execution_count": 117,
   "id": "27a8ef98",
   "metadata": {},
   "outputs": [
    {
     "data": {
      "image/png": "[encoded data removed]",
      "text/plain": [
       "<Figure size 432x288 with 1 Axes>"
      ]
     },
     "metadata": {
      "needs_background": "light"
     },
     "output_type": "display_data"
    }
   ],
   "source": [
    "y = train_y\n",
    "X = x_train_count.astype(\"float64\")\n",
    "\n",
    "rfc_roc_auc = roc_auc_score(y, rfc_model.predict(X))\n",
    "\n",
    "fpr, tpr, thresholds = roc_curve(y, rfc_model.predict_proba(X)[:,1])\n",
    "plt.figure()\n",
    "plt.plot(fpr, tpr, label='AUC (area = %0.2f)' % rfc_roc_auc)\n",
    "plt.plot([0, 1], [0, 1],'r--')\n",
    "plt.xlim([0.0, 1.0])\n",
    "plt.ylim([0.0, 1.05])\n",
    "plt.xlabel('False Positive Rate')\n",
    "plt.ylabel('True Positive Rate')\n",
    "plt.title('ROC')\n",
    "plt.show()"
   ]
  },
  {
   "cell_type": "markdown",
   "id": "8e1e1550",
   "metadata": {},
   "source": [
    "### RandomForestClassifier model with \"tf-idf\" method"
   ]
  },
  {
   "cell_type": "code",
   "execution_count": 118,
   "id": "b9103389",
   "metadata": {},
   "outputs": [
    {
     "name": "stdout",
     "output_type": "stream",
     "text": [
      "\n",
      "RandomForestClassifier model with 'tf-idf' method\n",
      "Accuracy ratio:  0.9466904761904761\n"
     ]
    }
   ],
   "source": [
    "rfc = RandomForestClassifier()\n",
    "rfc_model = rfc.fit(x_train_tf_idf_word,train_y)\n",
    "accuracy = model_selection.cross_val_score(rfc_model, \n",
    "                                           x_test_tf_idf_word, \n",
    "                                           test_y, \n",
    "                                           cv = 20).mean()\n",
    "\n",
    "print(\"\\nRandomForestClassifier model with 'tf-idf' method\")\n",
    "print(\"Accuracy ratio: \", accuracy)"
   ]
  },
  {
   "cell_type": "code",
   "execution_count": 119,
   "id": "8e37f636",
   "metadata": {},
   "outputs": [],
   "source": [
    "pred=rfc_model.predict(x_test_tf_idf_word)"
   ]
  },
  {
   "cell_type": "code",
   "execution_count": 120,
   "id": "136dacfb",
   "metadata": {},
   "outputs": [
    {
     "data": {
      "text/plain": [
       "array([[7370,   22],\n",
       "       [ 320,  279]], dtype=int64)"
      ]
     },
     "execution_count": 120,
     "metadata": {},
     "output_type": "execute_result"
    }
   ],
   "source": [
    "confusion_matrix(test_y,pred)"
   ]
  },
  {
   "cell_type": "code",
   "execution_count": 121,
   "id": "9b977e33",
   "metadata": {},
   "outputs": [
    {
     "name": "stdout",
     "output_type": "stream",
     "text": [
      "              precision    recall  f1-score   support\n",
      "\n",
      "           0       0.96      1.00      0.98      7392\n",
      "           1       0.93      0.47      0.62       599\n",
      "\n",
      "    accuracy                           0.96      7991\n",
      "   macro avg       0.94      0.73      0.80      7991\n",
      "weighted avg       0.96      0.96      0.95      7991\n",
      "\n"
     ]
    }
   ],
   "source": [
    "print(classification_report(test_y,pred))"
   ]
  },
  {
   "cell_type": "code",
   "execution_count": 122,
   "id": "53db3d5b",
   "metadata": {},
   "outputs": [
    {
     "data": {
      "image/png": "[encoded data removed]",
      "text/plain": [
       "<Figure size 432x288 with 1 Axes>"
      ]
     },
     "metadata": {
      "needs_background": "light"
     },
     "output_type": "display_data"
    }
   ],
   "source": [
    "y = train_y\n",
    "X = x_train_tf_idf_word\n",
    "\n",
    "rfc_roc_auc = roc_auc_score(y, rfc_model.predict(X))\n",
    "\n",
    "fpr, tpr, thresholds = roc_curve(y, rfc_model.predict_proba(X)[:,1])\n",
    "plt.figure()\n",
    "plt.plot(fpr, tpr, label='AUC (area = %0.2f)' % rfc_roc_auc)\n",
    "plt.plot([0, 1], [0, 1],'r--')\n",
    "plt.xlim([0.0, 1.0])\n",
    "plt.ylim([0.0, 1.05])\n",
    "plt.xlabel('False Positive Rate')\n",
    "plt.ylabel('True Positive Rate')\n",
    "plt.title('ROC')\n",
    "plt.show()"
   ]
  },
  {
   "cell_type": "markdown",
   "id": "14488941",
   "metadata": {},
   "source": [
    "### ExtraTreesClassifier model with \"count-vectors\" method"
   ]
  },
  {
   "cell_type": "code",
   "execution_count": 123,
   "id": "e3b05c0c",
   "metadata": {},
   "outputs": [
    {
     "name": "stdout",
     "output_type": "stream",
     "text": [
      "\n",
      "ExtraTreesClassifier model with 'count-vectors' method\n",
      "Accuracy ratio:  0.9542011278195488\n"
     ]
    }
   ],
   "source": [
    "etc = ExtraTreesClassifier()\n",
    "etc_model = etc.fit(x_train_count,train_y)\n",
    "accuracy = model_selection.cross_val_score(etc_model,\n",
    "                                           x_test_count,\n",
    "                                           test_y,\n",
    "                                           cv = 20).mean()\n",
    "\n",
    "print(\"\\nExtraTreesClassifier model with 'count-vectors' method\")\n",
    "print(\"Accuracy ratio: \", accuracy)"
   ]
  },
  {
   "cell_type": "code",
   "execution_count": 124,
   "id": "4fffd8fc",
   "metadata": {},
   "outputs": [],
   "source": [
    "pred=etc_model.predict(x_test_count)"
   ]
  },
  {
   "cell_type": "code",
   "execution_count": 125,
   "id": "fa5be8c3",
   "metadata": {},
   "outputs": [
    {
     "data": {
      "text/plain": [
       "array([[7334,   58],\n",
       "       [ 254,  345]], dtype=int64)"
      ]
     },
     "execution_count": 125,
     "metadata": {},
     "output_type": "execute_result"
    }
   ],
   "source": [
    "confusion_matrix(test_y,pred)"
   ]
  },
  {
   "cell_type": "code",
   "execution_count": 126,
   "id": "6833b3d7",
   "metadata": {},
   "outputs": [
    {
     "name": "stdout",
     "output_type": "stream",
     "text": [
      "              precision    recall  f1-score   support\n",
      "\n",
      "           0       0.97      0.99      0.98      7392\n",
      "           1       0.86      0.58      0.69       599\n",
      "\n",
      "    accuracy                           0.96      7991\n",
      "   macro avg       0.91      0.78      0.83      7991\n",
      "weighted avg       0.96      0.96      0.96      7991\n",
      "\n"
     ]
    }
   ],
   "source": [
    "print(classification_report(test_y,pred))"
   ]
  },
  {
   "cell_type": "code",
   "execution_count": 127,
   "id": "465554ab",
   "metadata": {},
   "outputs": [
    {
     "data": {
      "image/png": "[encoded data removed]",
      "text/plain": [
       "<Figure size 432x288 with 1 Axes>"
      ]
     },
     "metadata": {
      "needs_background": "light"
     },
     "output_type": "display_data"
    }
   ],
   "source": [
    "y = train_y\n",
    "X = x_train_count.astype(\"float64\")\n",
    "\n",
    "etc_roc_auc = roc_auc_score(y, etc_model.predict(X))\n",
    "\n",
    "fpr, tpr, thresholds = roc_curve(y, etc_model.predict_proba(X)[:,1])\n",
    "plt.figure()\n",
    "plt.plot(fpr, tpr, label='AUC (area = %0.2f)' % etc_roc_auc)\n",
    "plt.plot([0, 1], [0, 1],'r--')\n",
    "plt.xlim([0.0, 1.0])\n",
    "plt.ylim([0.0, 1.05])\n",
    "plt.xlabel('False Positive Rate')\n",
    "plt.ylabel('True Positive Rate')\n",
    "plt.title('ROC')\n",
    "plt.show()"
   ]
  },
  {
   "cell_type": "markdown",
   "id": "cb7605df",
   "metadata": {},
   "source": [
    "### ExtraTreesClassifier model with \"tf-idf\" method"
   ]
  },
  {
   "cell_type": "code",
   "execution_count": 129,
   "id": "bf5544e5",
   "metadata": {},
   "outputs": [
    {
     "name": "stdout",
     "output_type": "stream",
     "text": [
      "\n",
      "ExtraTreesClassifier model with 'tf-idf' method\n",
      "Accuracy ratio:  0.9521963391739675\n"
     ]
    }
   ],
   "source": [
    "etc = ExtraTreesClassifier()\n",
    "etc_model = etc.fit(x_train_tf_idf_word,train_y)\n",
    "accuracy = model_selection.cross_val_score(etc_model, \n",
    "                                           x_test_tf_idf_word, \n",
    "                                           test_y, \n",
    "                                           cv = 10).mean()\n",
    "\n",
    "print(\"\\nExtraTreesClassifier model with 'tf-idf' method\")\n",
    "print(\"Accuracy ratio: \", accuracy)"
   ]
  },
  {
   "cell_type": "code",
   "execution_count": 130,
   "id": "8ab64031",
   "metadata": {},
   "outputs": [],
   "source": [
    "pred=etc_model.predict(x_test_tf_idf_word)"
   ]
  },
  {
   "cell_type": "code",
   "execution_count": 131,
   "id": "1fb2bf63",
   "metadata": {},
   "outputs": [
    {
     "data": {
      "text/plain": [
       "array([[7352,   40],\n",
       "       [ 250,  349]], dtype=int64)"
      ]
     },
     "execution_count": 131,
     "metadata": {},
     "output_type": "execute_result"
    }
   ],
   "source": [
    "confusion_matrix(test_y,pred)"
   ]
  },
  {
   "cell_type": "code",
   "execution_count": 132,
   "id": "69dddbf6",
   "metadata": {},
   "outputs": [
    {
     "name": "stdout",
     "output_type": "stream",
     "text": [
      "              precision    recall  f1-score   support\n",
      "\n",
      "           0       0.97      0.99      0.98      7392\n",
      "           1       0.90      0.58      0.71       599\n",
      "\n",
      "    accuracy                           0.96      7991\n",
      "   macro avg       0.93      0.79      0.84      7991\n",
      "weighted avg       0.96      0.96      0.96      7991\n",
      "\n"
     ]
    }
   ],
   "source": [
    "print(classification_report(test_y,pred))"
   ]
  },
  {
   "cell_type": "code",
   "execution_count": 133,
   "id": "c7e067a0",
   "metadata": {},
   "outputs": [
    {
     "data": {
      "image/png": "[encoded data removed]",
      "text/plain": [
       "<Figure size 432x288 with 1 Axes>"
      ]
     },
     "metadata": {
      "needs_background": "light"
     },
     "output_type": "display_data"
    }
   ],
   "source": [
    "y = train_y\n",
    "X = x_train_tf_idf_word.astype(\"float64\")\n",
    "\n",
    "etc_roc_auc = roc_auc_score(y, etc_model.predict(X))\n",
    "\n",
    "fpr, tpr, thresholds = roc_curve(y, etc_model.predict_proba(X)[:,1])\n",
    "plt.figure()\n",
    "plt.plot(fpr, tpr, label='AUC (area = %0.2f)' % etc_roc_auc)\n",
    "plt.plot([0, 1], [0, 1],'r--')\n",
    "plt.xlim([0.0, 1.0])\n",
    "plt.ylim([0.0, 1.05])\n",
    "plt.xlabel('False Positive Rate')\n",
    "plt.ylabel('True Positive Rate')\n",
    "plt.title('ROC')\n",
    "plt.show()"
   ]
  },
  {
   "cell_type": "code",
   "execution_count": null,
   "id": "cd5d7fe9",
   "metadata": {},
   "outputs": [],
   "source": []
  }
 ],
 "metadata": {
  "kernelspec": {
   "display_name": "Python 3 (ipykernel)",
   "language": "python",
   "name": "python3"
  },
  "language_info": {
   "codemirror_mode": {
    "name": "ipython",
    "version": 3
   },
   "file_extension": ".py",
   "mimetype": "text/x-python",
   "name": "python",
   "nbconvert_exporter": "python",
   "pygments_lexer": "ipython3",
   "version": "3.9.7"
  }
 },
 "nbformat": 4,
 "nbformat_minor": 5
}
